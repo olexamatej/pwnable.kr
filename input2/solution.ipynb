{
 "cells": [
  {
   "cell_type": "markdown",
   "metadata": {},
   "source": [
    "### stage 1\n",
    "```C\n",
    "if(argc != 100) return 0;\n",
    "if(strcmp(argv['A'],\"\\x00\")) return 0;\n",
    "if(strcmp(argv['B'],\"\\x20\\x0a\\x0d\")) return 0;\n",
    "printf(\"Stage 1 clear!\\n\");```"
   ]
  },
  {
   "cell_type": "code",
   "execution_count": 116,
   "metadata": {},
   "outputs": [
    {
     "name": "stdout",
     "output_type": "stream",
     "text": [
      "['A', 'A', 'A', 'A', 'A', 'A', 'A', 'A', 'A', 'A', 'A', 'A', 'A', 'A', 'A', 'A', 'A', 'A', 'A', 'A', 'A', 'A', 'A', 'A', 'A', 'A', 'A', 'A', 'A', 'A', 'A', 'A', 'A', 'A', 'A', 'A', 'A', 'A', 'A', 'A', 'A', 'A', 'A', 'A', 'A', 'A', 'A', 'A', 'A', 'A', 'A', 'A', 'A', 'A', 'A', 'A', 'A', 'A', 'A', 'A', 'A', 'A', 'A', 'A', 'A', '\\x00', ' \\n\\r', '4444', 'A', 'A', 'A', 'A', 'A', 'A', 'A', 'A', 'A', 'A', 'A', 'A', 'A', 'A', 'A', 'A', 'A', 'A', 'A', 'A', 'A', 'A', 'A', 'A', 'A', 'A', 'A', 'A', 'A', 'A', 'A', 'A']\n"
     ]
    }
   ],
   "source": [
    "import sys\n",
    "from pwn import * \n",
    "\n",
    "args = ['A']*100\n",
    "args[65] = '\\x00'\n",
    "args[66] = '\\x20\\x0a\\x0d'\n",
    "args[67] = '4444'\n",
    "\n",
    "# args = ' '.join(sys.argv)\n",
    "print(args)\n",
    "\n"
   ]
  },
  {
   "cell_type": "markdown",
   "metadata": {},
   "source": [
    "### stage 2\n",
    "```C\n",
    "char buf[4];\n",
    "read(0, buf, 4);\n",
    "if(memcmp(buf, \"\\x00\\x0a\\x00\\xff\", 4)) return 0;\n",
    "read(2, buf, 4);\n",
    "if(memcmp(buf, \"\\x00\\x0a\\x02\\xff\", 4)) return 0;\n",
    "printf(\"Stage 2 clear!\\n\");```"
   ]
  },
  {
   "cell_type": "code",
   "execution_count": 117,
   "metadata": {},
   "outputs": [],
   "source": [
    "import os\n",
    "\n",
    "stderr_r, stderr_w = os.pipe()\n",
    "\n",
    "os.write(stderr_w, b'\\x00\\x0a\\x02\\xff')\n",
    "os.close(stderr_w)\n",
    "\n",
    "# stdin will be written after creating process \n"
   ]
  },
  {
   "cell_type": "markdown",
   "metadata": {},
   "source": [
    "### stage 3\n",
    "\n",
    "\n",
    "```C\n",
    "if(strcmp(\"\\xca\\xfe\\xba\\xbe\", getenv(\"\\xde\\xad\\xbe\\xef\"))) return 0;\n",
    "printf(\"Stage 3 clear!\\n\");```"
   ]
  },
  {
   "cell_type": "code",
   "execution_count": 118,
   "metadata": {},
   "outputs": [],
   "source": [
    "env = {'\\xde\\xad\\xbe\\xef': '\\xca\\xfe\\xba\\xbe'}"
   ]
  },
  {
   "cell_type": "markdown",
   "metadata": {},
   "source": [
    "### stage 4\n",
    "```C\n",
    "FILE* fp = fopen(\"\\x0a\", \"r\");\n",
    "if(!fp) return 0;\n",
    "if( fread(buf, 4, 1, fp)!=1 ) return 0;\n",
    "if( memcmp(buf, \"\\x00\\x00\\x00\\x00\", 4) ) return 0;\n",
    "fclose(fp);\n",
    "printf(\"Stage 4 clear!\\n\");\n",
    "```"
   ]
  },
  {
   "cell_type": "code",
   "execution_count": 119,
   "metadata": {},
   "outputs": [],
   "source": [
    "with open(b'\\x0a', 'w') as file:\n",
    "    file.write(\"\\x00\\x00\\x00\\x00\")"
   ]
  },
  {
   "cell_type": "markdown",
   "metadata": {},
   "source": [
    "### stage 5\n",
    "\n",
    "```C\n",
    " // network\n",
    "        int sd, cd;\n",
    "        struct sockaddr_in saddr, caddr;\n",
    "        sd = socket(AF_INET, SOCK_STREAM, 0);\n",
    "        if(sd == -1){\n",
    "                printf(\"socket error, tell admin\\n\");\n",
    "                return 0;\n",
    "        }\n",
    "        \n",
    "        saddr.sin_family = AF_INET;\n",
    "        saddr.sin_addr.s_addr = INADDR_ANY;\n",
    "        saddr.sin_port = htons( atoi(argv['C']) );\n",
    "        if(bind(sd, (struct sockaddr*)&saddr, sizeof(saddr)) < 0){\n",
    "                printf(\"bind error, use another port\\n\");\n",
    "                return 1;\n",
    "        }\n",
    "        listen(sd, 1);\n",
    "        int c = sizeof(struct sockaddr_in);\n",
    "        cd = accept(sd, (struct sockaddr *)&caddr, (socklen_t*)&c);\n",
    "        if(cd < 0){\n",
    "                printf(\"accept error, tell admin\\n\");\n",
    "                return 0;\n",
    "        }\n",
    "        if( recv(cd, buf, 4, 0) != 4 ) return 0;\n",
    "        if(memcmp(buf, \"\\xde\\xad\\xbe\\xef\", 4)) return 0;\n",
    "        printf(\"Stage 5 clear!\\n\");\n",
    "\n",
    "```"
   ]
  },
  {
   "cell_type": "code",
   "execution_count": null,
   "metadata": {},
   "outputs": [],
   "source": [
    "import socket\n",
    "\n",
    "host = 'localhost'\n",
    "port = 4444\n",
    "\n",
    "def get_payload():\n",
    "    with socket.socket(socket.AF_INET, socket.SOCK_STREAM) as s:\n",
    "        s.connect((host, port))\n",
    "        \n",
    "        s.sendall(b'\\xde\\xad\\xbe\\xef')\n",
    "\n",
    "        print(\"Data sent!\")"
   ]
  },
  {
   "cell_type": "code",
   "execution_count": 121,
   "metadata": {},
   "outputs": [
    {
     "name": "stdout",
     "output_type": "stream",
     "text": [
      "['A', 'A', 'A', 'A', 'A', 'A', 'A', 'A', 'A', 'A', 'A', 'A', 'A', 'A', 'A', 'A', 'A', 'A', 'A', 'A', 'A', 'A', 'A', 'A', 'A', 'A', 'A', 'A', 'A', 'A', 'A', 'A', 'A', 'A', 'A', 'A', 'A', 'A', 'A', 'A', 'A', 'A', 'A', 'A', 'A', 'A', 'A', 'A', 'A', 'A', 'A', 'A', 'A', 'A', 'A', 'A', 'A', 'A', 'A', 'A', 'A', 'A', 'A', 'A', 'A', '\\x00', ' \\n\\r', '4444', 'A', 'A', 'A', 'A', 'A', 'A', 'A', 'A', 'A', 'A', 'A', 'A', 'A', 'A', 'A', 'A', 'A', 'A', 'A', 'A', 'A', 'A', 'A', 'A', 'A', 'A', 'A', 'A', 'A', 'A', 'A', 'A']\n",
      "[x] Starting local process './code'\n",
      "[+] Starting local process './code': pid 23915\n",
      "Data sent!\n",
      "b\"Welcome to pwnable.kr\\nLet's see if you know how to give input to program\\nJust give me correct inputs then you will get the flag :)\\nargv is correct!\\n\\nfirst half of stage 1 clear!\\nStage 1 clear!\\nStage 2 almost clear!\\nStage 2 clear!\\nStage 3 clear!\\nStage 4 clear!\\nStage 5 clear!\\n\"\n",
      "[*] Stopped process './code' (pid 23915)\n"
     ]
    },
    {
     "name": "stderr",
     "output_type": "stream",
     "text": [
      "/usr/lib/python3/dist-packages/IPython/core/interactiveshell.py:3457: BytesWarning: Text is not bytes; assuming ISO-8859-1, no guarantees. See https://docs.pwntools.com/#bytes\n",
      "  exec(code_obj, self.user_global_ns, self.user_ns)\n"
     ]
    }
   ],
   "source": [
    "print(args)\n",
    "p = process(executable='./code', \n",
    "\t\targv=args, \n",
    "        stderr=stderr_r,\n",
    "        env=env\n",
    ")\n",
    "\n",
    "p.stdin.write(b'\\x00\\x0a\\x00\\xff')\n",
    "p.stdin.flush()\n",
    "\n",
    "\n",
    "get_payload()\n",
    "\n",
    "print(p.recv())\n",
    "p.close()"
   ]
  }
 ],
 "metadata": {
  "kernelspec": {
   "display_name": "Python 3",
   "language": "python",
   "name": "python3"
  },
  "language_info": {
   "codemirror_mode": {
    "name": "ipython",
    "version": 3
   },
   "file_extension": ".py",
   "mimetype": "text/x-python",
   "name": "python",
   "nbconvert_exporter": "python",
   "pygments_lexer": "ipython3",
   "version": "3.12.2"
  }
 },
 "nbformat": 4,
 "nbformat_minor": 2
}
