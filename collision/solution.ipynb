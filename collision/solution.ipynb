{
 "cells": [
  {
   "cell_type": "markdown",
   "metadata": {},
   "source": [
    "we need to bypass this hashing function\n",
    "\n",
    " unsigned long hashcode = 0x21DD09EC;\n",
    " unsigned long check_password(const char* p){\n",
    "     int* ip = (int*)p;\n",
    "     int i;\n",
    "     int res=0;\n",
    "     for(i=0; i<5; i++){\n",
    "         res += ip[i];\n",
    "     }\n",
    "     return res;\n",
    " }\n",
    "\n"
   ]
  },
  {
   "cell_type": "code",
   "execution_count": 1,
   "metadata": {},
   "outputs": [
    {
     "name": "stdout",
     "output_type": "stream",
     "text": [
      "568134124\n"
     ]
    }
   ],
   "source": [
    "\n",
    "hex_hash_code = \"0x21DD09EC\"\n",
    "dec_hash_code = int(hex_hash_code, 16)\n",
    "print(dec_hash_code)\n",
    "# 568134124"
   ]
  },
  {
   "cell_type": "code",
   "execution_count": 13,
   "metadata": {},
   "outputs": [
    {
     "name": "stdout",
     "output_type": "stream",
     "text": [
      "113626824 113626828\n"
     ]
    }
   ],
   "source": [
    "# goal is to get the string \"0x21DD09EC\" from 'a + b + c + d + e', where each is 4 bytes long\n",
    "\n",
    "a = 568134124 // 5\n",
    "e = 568134124 - a * 4 \n",
    "\n",
    "print(a, e)"
   ]
  },
  {
   "cell_type": "code",
   "execution_count": 37,
   "metadata": {},
   "outputs": [
    {
     "name": "stdout",
     "output_type": "stream",
     "text": [
      "568134124\n",
      "0x6c5cec8 0x6c5cecc\n",
      "ÈÎÅ\u0006ÈÎÅ\u0006ÈÎÅ\u0006ÈÎÅ\u0006ÌÎÅ\u0006\n"
     ]
    }
   ],
   "source": [
    "# change a and e to hex\n",
    "\n",
    "a_hex = hex(a)\n",
    "e_hex = hex(e)\n",
    "\n",
    "# double check\n",
    "print(4 * a + e)\n",
    "\n",
    "# this prints it in different endian, but thats good enough - we need to rewrite it for command line command anyway\n",
    "print(a_hex, e_hex)\n",
    "# 0x6c5cec8 0x6c5cecc \n",
    "\n",
    "# so solution is c8ce5c06*4+ccce5c06\n",
    "\n",
    "# this is correct output\n",
    "print('\\xc8\\xce\\xc5\\x06'*4+'\\xcc\\xce\\xc5\\x06')\n",
    "\n",
    "#   this is  final solution\n",
    "#  ./col \"`python -c \"print '\\xc8\\xce\\xc5\\x06'*4+'\\xcc\\xce\\xc5\\x06'\"`\" "
   ]
  }
 ],
 "metadata": {
  "kernelspec": {
   "display_name": "Python 3",
   "language": "python",
   "name": "python3"
  },
  "language_info": {
   "codemirror_mode": {
    "name": "ipython",
    "version": 3
   },
   "file_extension": ".py",
   "mimetype": "text/x-python",
   "name": "python",
   "nbconvert_exporter": "python",
   "pygments_lexer": "ipython3",
   "version": "3.12.2"
  }
 },
 "nbformat": 4,
 "nbformat_minor": 2
}
