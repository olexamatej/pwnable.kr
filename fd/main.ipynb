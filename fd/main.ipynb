{
 "cells": [
  {
   "cell_type": "markdown",
   "metadata": {},
   "source": [
    "int fd = atoi( argv[1] ) - 0x1234;\n",
    "int len = 0;\n",
    "len = read(fd, buf, 32);\n",
    "\n",
    "this is important code, first param (fd) chooses which linux IO will be used, so we want it to be '0' (stdin) "
   ]
  },
  {
   "cell_type": "code",
   "execution_count": 1,
   "metadata": {},
   "outputs": [
    {
     "name": "stdout",
     "output_type": "stream",
     "text": [
      "4660\n"
     ]
    }
   ],
   "source": [
    "value = int(0x1234)\n",
    "\n",
    "print(value) # 4660\n",
    "\n",
    "# this is our input into program, then we can input\n",
    "# LETMEWIN to get the flag"
   ]
  }
 ],
 "metadata": {
  "kernelspec": {
   "display_name": "Python 3",
   "language": "python",
   "name": "python3"
  },
  "language_info": {
   "codemirror_mode": {
    "name": "ipython",
    "version": 3
   },
   "file_extension": ".py",
   "mimetype": "text/x-python",
   "name": "python",
   "nbconvert_exporter": "python",
   "pygments_lexer": "ipython3",
   "version": "3.12.2"
  }
 },
 "nbformat": 4,
 "nbformat_minor": 2
}
